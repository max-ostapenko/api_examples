{
  "nbformat": 4,
  "nbformat_minor": 0,
  "metadata": {
    "colab": {
      "private_outputs": true,
      "provenance": [],
      "toc_visible": true,
      "authorship_tag": "ABX9TyPxgwKPdaZC6vGelHmoRa9x",
      "include_colab_link": true
    },
    "kernelspec": {
      "name": "python3",
      "display_name": "Python 3"
    },
    "language_info": {
      "name": "python"
    }
  },
  "cells": [
    {
      "cell_type": "markdown",
      "metadata": {
        "id": "view-in-github",
        "colab_type": "text"
      },
      "source": [
        "<a href=\"https://colab.research.google.com/github/max-ostapenko/api_examples/blob/main/examples/python_notebook/bigquery_vector_search.ipynb\" target=\"_parent\"><img src=\"https://colab.research.google.com/assets/colab-badge.svg\" alt=\"Open In Colab\"/></a>"
      ]
    },
    {
      "cell_type": "markdown",
      "source": [
        "# Authorize GCP access"
      ],
      "metadata": {
        "id": "_wuEZkewT4Eh"
      }
    },
    {
      "cell_type": "code",
      "execution_count": null,
      "metadata": {
        "id": "a9MjY0kiQRyr",
        "cellView": "form"
      },
      "outputs": [],
      "source": [
        "from google.colab import auth\n",
        "auth.authenticate_user()\n",
        "\n",
        "project_id = 'max-ostapenko' # @param {type: \"string\"}\n",
        "dataset_id = 'vector_search' # @param {type: \"string\"}\n",
        "location_id = 'us' # @param {type: \"string\"}\n",
        "\n",
        "from google.cloud import bigquery\n",
        "bq_client = bigquery.Client(project=project_id)\n",
        "\n",
        "!bq mk --project_id={project_id} --location {location_id} --dataset {dataset_id}"
      ]
    },
    {
      "cell_type": "markdown",
      "source": [
        "# Connect ml model"
      ],
      "metadata": {
        "id": "u8WQgwSiTomu"
      }
    },
    {
      "cell_type": "code",
      "source": [
        "connection_id = \"vertex_ai-remote_functions-big_lake\"\n",
        "\n",
        "# Create BigQuery connection to Vertex AI\n",
        "!bq mk --project_id={project_id} --location={location_id} \\\n",
        "    --connection_type=CLOUD_RESOURCE --connection {connection_id}\n",
        "\n",
        "# Extract service account ID from the connection details\n",
        "import subprocess, json\n",
        "connection_details = json.loads(\n",
        "    subprocess.check_output(\"bq show --project_id={project_id} --location={location_id} --format=json --connection {connection_id}\".format(\n",
        "        project_id=project_id,\n",
        "        location_id=location_id,\n",
        "        connection_id=connection_id\n",
        "        ).split(\" \")\n",
        "    ).decode('utf-8')\n",
        ")\n",
        "service_account = connection_details[\"cloudResource\"][\"serviceAccountId\"]\n",
        "\n",
        "# Authorise 'Vertex AI User' role for connection service account\n",
        "!gcloud projects add-iam-policy-binding {project_id} \\\n",
        "    --member='serviceAccount:{service_account}' --role='roles/aiplatform.user' > /dev/null\n",
        "\n",
        "# Create BQ ML model for embedding\n",
        "create_model_query = \"\"\"\n",
        "CREATE OR REPLACE MODEL `{project_id}.{dataset_id}.multimodalembedding`\n",
        "REMOTE WITH CONNECTION `{project_id}.{location_id}.vertex_ai-remote_functions-big_lake`\n",
        "OPTIONS (ENDPOINT = \"textembedding-gecko@latest\");\n",
        "\"\"\".format(dataset_id=dataset_id, project_id=project_id, location_id=location_id)\n",
        "\n",
        "!bq query --project_id={project_id} --use_legacy_sql=false '{create_model_query}'"
      ],
      "metadata": {
        "id": "hjaR39aCQ-ql"
      },
      "execution_count": null,
      "outputs": []
    },
    {
      "cell_type": "markdown",
      "source": [
        "# Get product names"
      ],
      "metadata": {
        "id": "YhSr739qTqOk"
      }
    },
    {
      "cell_type": "code",
      "source": [
        "get_product_names_query = \"\"\"\n",
        "CREATE OR REPLACE TABLE\n",
        "    `{dataset_id}.items_name_embedded` AS (\n",
        "    SELECT\n",
        "        *\n",
        "    FROM\n",
        "        ML.GENERATE_TEXT_EMBEDDING( MODEL `{dataset_id}.multimodalembedding`,\n",
        "            (\n",
        "            SELECT\n",
        "                DISTINCT items.item_name AS content\n",
        "            FROM\n",
        "                `bigquery-public-data.ga4_obfuscated_sample_ecommerce.events_20210131`\n",
        "            CROSS JOIN\n",
        "                UNNEST(items) AS items\n",
        "            WHERE\n",
        "                item_name IS NOT NULL\n",
        "                AND item_name != \"(not set)\"\n",
        "            ORDER BY\n",
        "                item_name ASC ),\n",
        "            STRUCT(TRUE AS flatten_json_output) ) );\n",
        "\"\"\".format(dataset_id=dataset_id)\n",
        "\n",
        "!bq query --project_id={project_id} --use_legacy_sql=false '{get_product_names_query}'\n",
        "\n",
        "query_product_names = \"\"\"\n",
        "SELECT\n",
        "    content, statistics, ml_embed_text_status, text_embedding\n",
        "FROM\n",
        "`{dataset_id}.items_name_embedded`\n",
        "LIMIT 5\n",
        "\"\"\".format(dataset_id=dataset_id)\n",
        "\n",
        "!bq query --project_id={project_id} --use_legacy_sql=false '{query_product_names}'"
      ],
      "metadata": {
        "id": "zNiNg0O9Q69I"
      },
      "execution_count": null,
      "outputs": []
    },
    {
      "cell_type": "markdown",
      "source": [
        "# Search for neighbours"
      ],
      "metadata": {
        "id": "tlFNoSI1Tlf-"
      }
    },
    {
      "cell_type": "code",
      "source": [
        "search_query = \"Something for my daughter\" # @param {type: \"string\"}\n",
        "\n",
        "select_neighbours_query = \"\"\"\n",
        "SELECT\n",
        "    base.content AS base_content,\n",
        "    distance\n",
        "FROM\n",
        "    VECTOR_SEARCH( TABLE {dataset_id}.items_name_embedded,\n",
        "        \"text_embedding\",\n",
        "        (\n",
        "        SELECT\n",
        "            content,\n",
        "            text_embedding\n",
        "        FROM\n",
        "            ML.GENERATE_TEXT_EMBEDDING( MODEL `{dataset_id}.multimodalembedding`,\n",
        "                (\n",
        "                SELECT\n",
        "                    \"{search_query}\" AS content),\n",
        "                STRUCT(TRUE AS flatten_json_output) ) ),\n",
        "        \"text_embedding\",\n",
        "        top_k => 5 );\n",
        "\"\"\".format(\n",
        "    dataset_id=dataset_id,\n",
        "    search_query=search_query\n",
        ")\n",
        "\n",
        "!bq query --project_id={project_id} --use_legacy_sql=false '{select_neighbours_query}'"
      ],
      "metadata": {
        "id": "6j8t1hwIRClX",
        "cellView": "form"
      },
      "execution_count": null,
      "outputs": []
    },
    {
      "cell_type": "markdown",
      "source": [
        "Costs: https://cloud.google.com/vertex-ai/pricing#generative_ai_models\n",
        "\n",
        "https://cloud.google.com/bigquery/docs/reference/standard-sql/bigqueryml-syntax-generate-text-embedding\n",
        "\n",
        "ML.GENERATE_IMAGE_EMBEDDING is not available yet"
      ],
      "metadata": {
        "id": "UU5H-5FeW6eD"
      }
    }
  ]
}