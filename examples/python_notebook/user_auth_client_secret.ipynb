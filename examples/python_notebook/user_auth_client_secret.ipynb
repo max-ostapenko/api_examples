{
 "cells": [
  {
   "cell_type": "markdown",
   "metadata": {
    "colab_type": "text",
    "id": "view-in-github"
   },
   "source": [
    "<a href=\"https://colab.research.google.com/github/max-ostapenko/api_examples/blob/main/examples/python_notebook/user_auth_client_secret.ipynb\" target=\"_parent\"><img src=\"https://colab.research.google.com/assets/colab-badge.svg\" alt=\"Open In Colab\"/></a>"
   ]
  },
  {
   "cell_type": "code",
   "execution_count": null,
   "metadata": {
    "id": "GdC23pqjE5oq"
   },
   "outputs": [],
   "source": [
    "from google_auth_oauthlib.flow import Flow\n",
    "from google.colab import userdata\n",
    "from IPython.display import display, HTML\n",
    "\n",
    "# Create Desktop client ID\n",
    "# https://console.cloud.google.com/apis/credentials\n",
    "# and add client_id and client_secret to notebook secrets\n",
    "\n",
    "# Define required OAuth scopes\n",
    "# https://developers.google.com/identity/protocols/oauth2/scopes\n",
    "SCOPES = [\"https://www.googleapis.com/auth/calendar\", \"https://www.googleapis.com/auth/cloud-platform\"]\n",
    "\n",
    "flow = Flow.from_client_config(\n",
    "    {\n",
    "        \"installed\": {\n",
    "            \"client_id\": userdata.get('client_id'),\n",
    "            \"client_secret\": userdata.get('client_secret'),\n",
    "            \"redirect_uris\": [\"http://localhost\"],\n",
    "            \"auth_uri\": \"https://accounts.google.com/o/oauth2/auth\",\n",
    "            \"token_uri\": \"https://accounts.google.com/o/oauth2/token\"\n",
    "        }\n",
    "    },\n",
    "    SCOPES,\n",
    "    redirect_uri='urn:ietf:wg:oauth:2.0:oob'\n",
    ")\n",
    "\n",
    "auth_url, _ = flow.authorization_url(prompt='consent')\n",
    "display(HTML(f'Click <a href=\"{auth_url}\" target=\"_blank\">here</a> to authorize access.'))\n",
    "\n",
    "code = input('Enter the authorization code: ')\n",
    "flow.fetch_token(code=code)\n",
    "credentials = flow.credentials"
   ]
  },
  {
   "cell_type": "code",
   "execution_count": null,
   "metadata": {
    "id": "T7e-66wwpowV"
   },
   "outputs": [],
   "source": [
    "import googleapiclient.discovery\n",
    "calendar_service = googleapiclient.discovery.build('calendar', 'v3', credentials=credentials)\n",
    "calendar_service.events().list(calendarId='primary', maxResults=10).execute()"
   ]
  },
  {
   "cell_type": "code",
   "execution_count": null,
   "metadata": {},
   "outputs": [],
   "source": [
    "dataform_service = googleapiclient.discovery.build('dataform', 'v1beta1', credentials=credentials)\n",
    "dataform_service.projects().locations().repositories().list(parent='projects/max-ostapenko/locations/us-central1').execute()"
   ]
  }
 ],
 "metadata": {
  "colab": {
   "authorship_tag": "ABX9TyMzCk4oTPbxmEWIM3hi9hYH",
   "include_colab_link": true,
   "private_outputs": true,
   "provenance": []
  },
  "kernelspec": {
   "display_name": "Python 3",
   "name": "python3"
  },
  "language_info": {
   "name": "python"
  }
 },
 "nbformat": 4,
 "nbformat_minor": 0
}
